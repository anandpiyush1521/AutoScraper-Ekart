{
 "cells": [
  {
   "cell_type": "code",
   "execution_count": 1,
   "metadata": {},
   "outputs": [],
   "source": [
    "from autoscraper import AutoScraper"
   ]
  },
  {
   "cell_type": "code",
   "execution_count": 2,
   "metadata": {},
   "outputs": [],
   "source": [
    "flipkart_url = \"https://www.flipkart.com/search?q=mobiles\"\n",
    "wanted_list = [\"₹7,999\", \"POCO C31 (Royal Blue, 64 GB)\"]"
   ]
  },
  {
   "cell_type": "code",
   "execution_count": 3,
   "metadata": {},
   "outputs": [],
   "source": [
    "scraper = AutoScraper()\n",
    "result = scraper.build(flipkart_url, wanted_list)"
   ]
  },
  {
   "cell_type": "code",
   "execution_count": 4,
   "metadata": {},
   "outputs": [
    {
     "name": "stdout",
     "output_type": "stream",
     "text": [
      "['₹11,999', '₹10,999', '₹14,999', '₹9,999', '₹15,999', '₹1,029', '₹7,999', '₹6,999', '₹1,199', '₹8,499', '₹999', '₹8,799', '₹1,075', '₹8,999', '₹10,749', '₹7,499', '₹1,019', 'POCO C31 (Royal Blue, 64 GB)', 'POCO C31 (Royal Blue, 32 GB)', 'POCO C31 (Shadow Gray, 64 GB)', 'IAIR D40', 'REDMI 10 (Midnight Black, 64 GB)', 'Infinix HOT 12 Play (Horizon Blue, 64 GB)', 'Infinix HOT 12 Play (Daylight Green, 64 GB)', 'IAIR D24', 'REDMI 9i Sport (Coral Green, 64 GB)', 'REDMI 9i Sport (Carbon Black, 64 GB)', 'REDMI 9i Sport (Metallic Blue, 64 GB)', 'IAIR D41', 'realme C31 (Light Silver, 32 GB)', 'POCO M4 5G (Cool Blue, 64 GB)', 'realme C31 (Dark Green, 32 GB)', 'IAIR D23', 'SAMSUNG Galaxy F13 (Waterfall Blue, 64 GB)', 'Infinix HOT 12 Play (Racing Black, 64 GB)', 'realme Narzo 50i (Mint Green, 32 GB)', 'IAIR Basic Feature Dual Sim Mobile Phone with 1200mAh Battery, 1.77 inch Display Screen, 0.8 mp Camera...', 'realme C31 (Dark Green, 64 GB)', 'REDMI 10 (Caribbean Green, 64 GB)', 'REDMI 10 (Pacific Blue, 64 GB)', 'IAIR D22']\n"
     ]
    }
   ],
   "source": [
    "print(result)"
   ]
  },
  {
   "cell_type": "code",
   "execution_count": 5,
   "metadata": {},
   "outputs": [
    {
     "data": {
      "text/plain": [
       "{'rule_ay59': ['₹11,999',\n",
       "  '₹10,999',\n",
       "  '₹11,999',\n",
       "  '₹14,999',\n",
       "  '₹11,999',\n",
       "  '₹11,999',\n",
       "  '₹9,999',\n",
       "  '₹9,999',\n",
       "  '₹9,999',\n",
       "  '₹10,999',\n",
       "  '₹15,999',\n",
       "  '₹10,999',\n",
       "  '₹1,029',\n",
       "  '₹14,999',\n",
       "  '₹11,999',\n",
       "  '₹7,999',\n",
       "  '₹11,999',\n",
       "  '₹14,999',\n",
       "  '₹14,999'],\n",
       " 'rule_eoio': ['₹7,999',\n",
       "  '₹6,999',\n",
       "  '₹7,999',\n",
       "  '₹1,199',\n",
       "  '₹9,999',\n",
       "  '₹8,499',\n",
       "  '₹8,499',\n",
       "  '₹999',\n",
       "  '₹8,799',\n",
       "  '₹8,799',\n",
       "  '₹8,799',\n",
       "  '₹1,075',\n",
       "  '₹8,999',\n",
       "  '₹10,749',\n",
       "  '₹8,999',\n",
       "  '₹999',\n",
       "  '₹11,999',\n",
       "  '₹8,499',\n",
       "  '₹7,499',\n",
       "  '₹999',\n",
       "  '₹9,999',\n",
       "  '₹9,999',\n",
       "  '₹9,999',\n",
       "  '₹1,019'],\n",
       " 'rule_9e07': ['₹7,999',\n",
       "  '₹6,999',\n",
       "  '₹7,999',\n",
       "  '₹1,199',\n",
       "  '₹9,999',\n",
       "  '₹8,499',\n",
       "  '₹8,499',\n",
       "  '₹999',\n",
       "  '₹8,799',\n",
       "  '₹8,799',\n",
       "  '₹8,799',\n",
       "  '₹1,075',\n",
       "  '₹8,999',\n",
       "  '₹10,749',\n",
       "  '₹8,999',\n",
       "  '₹999',\n",
       "  '₹11,999',\n",
       "  '₹8,499',\n",
       "  '₹7,499',\n",
       "  '₹999',\n",
       "  '₹9,999',\n",
       "  '₹9,999',\n",
       "  '₹9,999',\n",
       "  '₹1,019'],\n",
       " 'rule_3ww7': ['POCO C31 (Royal Blue, 64 GB)',\n",
       "  'POCO C31 (Royal Blue, 32 GB)',\n",
       "  'POCO C31 (Shadow Gray, 64 GB)',\n",
       "  'IAIR D40',\n",
       "  'REDMI 10 (Midnight Black, 64 GB)',\n",
       "  'Infinix HOT 12 Play (Horizon Blue, 64 GB)',\n",
       "  'Infinix HOT 12 Play (Daylight Green, 64 GB)',\n",
       "  'IAIR D24',\n",
       "  'REDMI 9i Sport (Coral Green, 64 GB)',\n",
       "  'REDMI 9i Sport (Carbon Black, 64 GB)',\n",
       "  'REDMI 9i Sport (Metallic Blue, 64 GB)',\n",
       "  'IAIR D41',\n",
       "  'realme C31 (Light Silver, 32 GB)',\n",
       "  'POCO M4 5G (Cool Blue, 64 GB)',\n",
       "  'realme C31 (Dark Green, 32 GB)',\n",
       "  'IAIR D23',\n",
       "  'SAMSUNG Galaxy F13 (Waterfall Blue, 64 GB)',\n",
       "  'Infinix HOT 12 Play (Racing Black, 64 GB)',\n",
       "  'realme Narzo 50i (Mint Green, 32 GB)',\n",
       "  'IAIR Basic Feature Dual Sim Mobile Phone with 1200mAh Battery, 1.77 inch Display Screen, 0.8 mp Camera...',\n",
       "  'realme C31 (Dark Green, 64 GB)',\n",
       "  'REDMI 10 (Caribbean Green, 64 GB)',\n",
       "  'REDMI 10 (Pacific Blue, 64 GB)',\n",
       "  'IAIR D22'],\n",
       " 'rule_7c02': ['POCO C31 (Royal Blue, 64 GB)',\n",
       "  'POCO C31 (Royal Blue, 32 GB)',\n",
       "  'POCO C31 (Shadow Gray, 64 GB)',\n",
       "  'IAIR D40',\n",
       "  'REDMI 10 (Midnight Black, 64 GB)',\n",
       "  'Infinix HOT 12 Play (Horizon Blue, 64 GB)',\n",
       "  'Infinix HOT 12 Play (Daylight Green, 64 GB)',\n",
       "  'IAIR D24',\n",
       "  'REDMI 9i Sport (Coral Green, 64 GB)',\n",
       "  'REDMI 9i Sport (Carbon Black, 64 GB)',\n",
       "  'REDMI 9i Sport (Metallic Blue, 64 GB)',\n",
       "  'IAIR D41',\n",
       "  'realme C31 (Light Silver, 32 GB)',\n",
       "  'POCO M4 5G (Cool Blue, 64 GB)',\n",
       "  'realme C31 (Dark Green, 32 GB)',\n",
       "  'IAIR D23',\n",
       "  'SAMSUNG Galaxy F13 (Waterfall Blue, 64 GB)',\n",
       "  'Infinix HOT 12 Play (Racing Black, 64 GB)',\n",
       "  'realme Narzo 50i (Mint Green, 32 GB)',\n",
       "  'IAIR Basic Feature Dual Sim Mobile Phone with 1200mAh Battery, 1.77 inch Display Screen, 0.8 mp Camera...',\n",
       "  'realme C31 (Dark Green, 64 GB)',\n",
       "  'REDMI 10 (Caribbean Green, 64 GB)',\n",
       "  'REDMI 10 (Pacific Blue, 64 GB)',\n",
       "  'IAIR D22']}"
      ]
     },
     "execution_count": 5,
     "metadata": {},
     "output_type": "execute_result"
    }
   ],
   "source": [
    "scraper.get_result_similar(flipkart_url, grouped=True)"
   ]
  },
  {
   "cell_type": "code",
   "execution_count": 6,
   "metadata": {},
   "outputs": [],
   "source": [
    "scraper.set_rule_aliases({'rule_3ww7':'Title','rule_ay59':'Price'})\n",
    "scraper.keep_rules(['rule_3ww7','rule_ay59'])\n",
    "scraper.save('flipkart-search')"
   ]
  },
  {
   "cell_type": "code",
   "execution_count": 7,
   "metadata": {},
   "outputs": [],
   "source": [
    "results = scraper.get_result_similar(\"https://www.flipkart.com/search?q=samsung%20phone%20under%2010000\", group_by_alias=True)"
   ]
  },
  {
   "cell_type": "code",
   "execution_count": 8,
   "metadata": {},
   "outputs": [
    {
     "name": "stdout",
     "output_type": "stream",
     "text": [
      "{'Price': ['₹11,200', '₹10,000', '₹10,499', '₹10,499', '₹8,800', '₹8,800', '₹8,700', '₹6,400', '₹6,999', '₹6,400', '₹6,012', '₹14,999', '₹14,999', '₹14,999', '₹23,999'], 'Title': ['SAMSUNG Galaxy A03 (Red, 32 GB)', 'SAMSUNG Galaxy M02 (Gray, 32 GB)', 'SAMSUNG Galaxy On Nxt (Gold, 16 GB)', 'SAMSUNG Galaxy A10s (Green, 32 GB)', 'SAMSUNG Galaxy A03 Core (Black, 32 GB)', 'SAMSUNG Galaxy A03 Core (Blue, 32 GB)', 'SAMSUNG Galaxy M02 (Black, 32 GB)', 'SAMSUNG Galaxy J2 Pro (Gold, 16 GB)', 'SAMSUNG Galaxy J3 Pro (Gold, 16 GB)', 'SAMSUNG Galaxy J3 Pro (Black, 16 GB)', 'SAMSUNG M01 core (Blue, 32 GB)', 'SAMSUNG Galaxy J2 (Gold, 8 GB)', 'SAMSUNG Galaxy A10 (Blue, 32 GB)', 'SAMSUNG M01 core (Red, 16 GB)', 'SAMSUNG M01 core (Black, 16 GB)', 'SAMSUNG Galaxy J2 Core (Gold, 8 GB)', 'SAMSUNG Galaxy J2 Core (Black, 16 GB)', 'SAMSUNG Galaxy J2 Core (Black, 8 GB)', 'SAMSUNG Galaxy A2 Core (Dark Gray, 16 GB)', 'SAMSUNG M01 core (Black, 32 GB)', 'SAMSUNG Galaxy F13 (Waterfall Blue, 64 GB)', 'SAMSUNG Galaxy F13 (Nightsky Green, 64 GB)', 'SAMSUNG Galaxy F13 (Sunrise Copper, 64 GB)', 'SAMSUNG Galaxy F23 5G (Aqua Blue, 128 GB)']}\n"
     ]
    }
   ],
   "source": [
    "print(results)"
   ]
  },
  {
   "cell_type": "code",
   "execution_count": null,
   "metadata": {},
   "outputs": [],
   "source": []
  }
 ],
 "metadata": {
  "kernelspec": {
   "display_name": "Python 3",
   "language": "python",
   "name": "python3"
  },
  "language_info": {
   "codemirror_mode": {
    "name": "ipython",
    "version": 3
   },
   "file_extension": ".py",
   "mimetype": "text/x-python",
   "name": "python",
   "nbconvert_exporter": "python",
   "pygments_lexer": "ipython3",
   "version": "3.8.5"
  }
 },
 "nbformat": 4,
 "nbformat_minor": 4
}
