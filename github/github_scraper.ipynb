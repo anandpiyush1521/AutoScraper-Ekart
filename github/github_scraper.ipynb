{
 "cells": [
  {
   "cell_type": "code",
   "execution_count": 1,
   "metadata": {},
   "outputs": [],
   "source": [
    "from autoscraper import AutoScraper"
   ]
  },
  {
   "cell_type": "code",
   "execution_count": 6,
   "metadata": {},
   "outputs": [],
   "source": [
    "git_url = \"https://github.com/pavankpdev?tab=repositories\"\n",
    "wanted_list=[\"30\", \"netflix-clone-shapeai-bootcamp\", \"251\"]"
   ]
  },
  {
   "cell_type": "code",
   "execution_count": 7,
   "metadata": {},
   "outputs": [],
   "source": [
    "scraper = AutoScraper()\n",
    "result=scraper.build(git_url, wanted_list)"
   ]
  },
  {
   "cell_type": "code",
   "execution_count": 8,
   "metadata": {},
   "outputs": [
    {
     "name": "stdout",
     "output_type": "stream",
     "text": [
      "['5', '1', '6', '3', '2', '332', '30', '4', '10', 'p-ride', 'Student-Management-Information-System', 'MovieTown', 'duolearn-bootstrap-workshop', 'crown-app', 'simple-nestjs-app', 'curostrides-assignment', 'multicontainer-docker-learning', 'minimizeurl', 'vidly-node-express-app-', 'polygon-ens', 'nextjs-isr-social-app', 'microservices-blog-app', 'DApp-TodoList', 'DEFI-DApp', 'zomato-proj-master-shapeai', 'chat_app_webrtc', 'NFT-JavaSctipt', 'serverless-auction', 'bookapi-shapeai-b-c-a', 'Face-Recognition-JavaScript', 'Task-mgmt-proj-shapeai-B-C-A', 'api-dev-bootcamp-shapeai', 'netflix-clone-shapeai-bootcamp', 'task-mgmt-app-lesson-prac', 'zomato-landing-page-shapeai-c-batch', 'zomato-master-proj-shapeai', 'dead-pool', 'zomato-clone-practice', 'book-my-show-shapeai', '251', '0']\n"
     ]
    }
   ],
   "source": [
    "print(result)"
   ]
  },
  {
   "cell_type": "code",
   "execution_count": 9,
   "metadata": {},
   "outputs": [
    {
     "data": {
      "text/plain": [
       "{'rule_d3dj': ['5',\n",
       "  '1',\n",
       "  '6',\n",
       "  '1',\n",
       "  '3',\n",
       "  '1',\n",
       "  '1',\n",
       "  '1',\n",
       "  '2',\n",
       "  '2',\n",
       "  '3',\n",
       "  '332',\n",
       "  '1',\n",
       "  '5',\n",
       "  '30',\n",
       "  '4',\n",
       "  '1',\n",
       "  '2',\n",
       "  '1',\n",
       "  '3',\n",
       "  '10'],\n",
       " 'rule_bs8p': ['p-ride',\n",
       "  'Student-Management-Information-System',\n",
       "  'MovieTown',\n",
       "  'duolearn-bootstrap-workshop',\n",
       "  'crown-app',\n",
       "  'simple-nestjs-app',\n",
       "  'curostrides-assignment',\n",
       "  'multicontainer-docker-learning',\n",
       "  'minimizeurl',\n",
       "  'vidly-node-express-app-',\n",
       "  'polygon-ens',\n",
       "  'nextjs-isr-social-app',\n",
       "  'microservices-blog-app',\n",
       "  'DApp-TodoList',\n",
       "  'DEFI-DApp',\n",
       "  'zomato-proj-master-shapeai',\n",
       "  'chat_app_webrtc',\n",
       "  'NFT-JavaSctipt',\n",
       "  'serverless-auction',\n",
       "  'bookapi-shapeai-b-c-a',\n",
       "  'Face-Recognition-JavaScript',\n",
       "  'Task-mgmt-proj-shapeai-B-C-A',\n",
       "  'api-dev-bootcamp-shapeai',\n",
       "  'netflix-clone-shapeai-bootcamp',\n",
       "  'task-mgmt-app-lesson-prac',\n",
       "  'zomato-landing-page-shapeai-c-batch',\n",
       "  'zomato-master-proj-shapeai',\n",
       "  'dead-pool',\n",
       "  'zomato-clone-practice',\n",
       "  'book-my-show-shapeai'],\n",
       " 'rule_khi2': ['251', '0']}"
      ]
     },
     "execution_count": 9,
     "metadata": {},
     "output_type": "execute_result"
    }
   ],
   "source": [
    "scraper.get_result_similar(\"https://github.com/pavankpdev?tab=repositories\", grouped=True)"
   ]
  },
  {
   "cell_type": "code",
   "execution_count": 10,
   "metadata": {},
   "outputs": [],
   "source": [
    "scraper.set_rule_aliases({'rule_d3dj':'Stars', 'rule_bs8p':'Title', 'rule_khi2':'Followers'})"
   ]
  },
  {
   "cell_type": "code",
   "execution_count": 11,
   "metadata": {},
   "outputs": [],
   "source": [
    "scraper.keep_rules(['rule_d3dj', 'rule_bs8p', 'rule_khi2'])\n",
    "scraper.save('git-repo-search')"
   ]
  },
  {
   "cell_type": "code",
   "execution_count": 12,
   "metadata": {},
   "outputs": [],
   "source": [
    "scraper.load('git-repo-search')"
   ]
  },
  {
   "cell_type": "code",
   "execution_count": 14,
   "metadata": {},
   "outputs": [],
   "source": [
    "result1= scraper.get_result_similar(\"https://github.com/anandpiyush1521?tab=repositories\", group_by_alias=True)"
   ]
  },
  {
   "cell_type": "code",
   "execution_count": 15,
   "metadata": {},
   "outputs": [
    {
     "name": "stdout",
     "output_type": "stream",
     "text": [
      "{'Stars': ['1', '1', '2', '31'], 'Title': ['Api', 'ShapeAI_Bootcamp_BFEWD', 'student_placement_prediction', 'flask-deloyment', 'Blog', 'Chat_analyzer', 'Covid_19_analysis', 'Chat-App', 'FoodWeb', 'Netflix_clone', 'Fakebook', 'TODO-LIST', 'carGame', 'flappyBird', 'inventory_database', 'Pglife', 'Clothingapp', 'Day-1_letsupgrade_Bootstrap', 'Portfolio_cover', 'ShapeAI_Web_Dev_HTML_CSS_Project', 'ShapeAI_Bootcamp_node.js', 'ShapeAI_Bootcamp_Python-Networksecurity', 'ShapeAI_Bootcamp_Python-Cybersecurity', 'Autoscrapper'], 'Followers': ['3', '9']}\n"
     ]
    }
   ],
   "source": [
    "print(result1)"
   ]
  },
  {
   "cell_type": "code",
   "execution_count": 20,
   "metadata": {},
   "outputs": [],
   "source": [
    "result = scraper.get_result_similar(\"https://github.com/anandpiyush1521?tab=repositories\", group_by_alias=True)"
   ]
  },
  {
   "cell_type": "code",
   "execution_count": 22,
   "metadata": {},
   "outputs": [
    {
     "data": {
      "text/plain": [
       "['3', '9']"
      ]
     },
     "execution_count": 22,
     "metadata": {},
     "output_type": "execute_result"
    }
   ],
   "source": [
    "result['Followers']"
   ]
  },
  {
   "cell_type": "code",
   "execution_count": 23,
   "metadata": {},
   "outputs": [
    {
     "data": {
      "text/plain": [
       "['1', '1', '2']"
      ]
     },
     "execution_count": 23,
     "metadata": {},
     "output_type": "execute_result"
    }
   ],
   "source": [
    "result['Stars']"
   ]
  },
  {
   "cell_type": "code",
   "execution_count": null,
   "metadata": {},
   "outputs": [],
   "source": []
  },
  {
   "cell_type": "code",
   "execution_count": null,
   "metadata": {},
   "outputs": [],
   "source": []
  }
 ],
 "metadata": {
  "kernelspec": {
   "display_name": "Python 3",
   "language": "python",
   "name": "python3"
  },
  "language_info": {
   "codemirror_mode": {
    "name": "ipython",
    "version": 3
   },
   "file_extension": ".py",
   "mimetype": "text/x-python",
   "name": "python",
   "nbconvert_exporter": "python",
   "pygments_lexer": "ipython3",
   "version": "3.8.5"
  }
 },
 "nbformat": 4,
 "nbformat_minor": 4
}
